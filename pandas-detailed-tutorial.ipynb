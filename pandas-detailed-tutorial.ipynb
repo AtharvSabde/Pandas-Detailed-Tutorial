{
 "cells": [
  {
   "cell_type": "markdown",
   "id": "ee96f3f4",
   "metadata": {
    "papermill": {
     "duration": 0.016964,
     "end_time": "2023-05-29T11:07:14.593356",
     "exception": false,
     "start_time": "2023-05-29T11:07:14.576392",
     "status": "completed"
    },
    "tags": []
   },
   "source": [
    "<font color='black' size=10><center><u> Pandas Beginner Course</u></center> </font>"
   ]
  },
  {
   "cell_type": "markdown",
   "id": "360b3468",
   "metadata": {
    "papermill": {
     "duration": 0.016129,
     "end_time": "2023-05-29T11:07:14.626044",
     "exception": false,
     "start_time": "2023-05-29T11:07:14.609915",
     "status": "completed"
    },
    "tags": []
   },
   "source": [
    "#### **This notebook is  all about pandas!**\n",
    "\n",
    " I have made this notebook to summarize almost all pandas concepts and how to use them while doing Exploratory Data Analysis (EDA).\n",
    " \n",
    " I have explained the code syntax in most basic and detailed way as possible.\n",
    " \n",
    " I hope this notebook helps in your Data Science journey!\n",
    " \n",
    " #### **Please give an upvote if you found my kernel helpful.**"
   ]
  },
  {
   "cell_type": "markdown",
   "id": "1fe4c656",
   "metadata": {
    "papermill": {
     "duration": 0.016144,
     "end_time": "2023-05-29T11:07:14.658941",
     "exception": false,
     "start_time": "2023-05-29T11:07:14.642797",
     "status": "completed"
    },
    "tags": []
   },
   "source": [
    "<a id=\"toc\"></a>\n",
    "<h2 style='background:black; border:0; color:cyan'><center>Table of Content</center><h2>"
   ]
  },
  {
   "cell_type": "markdown",
   "id": "fef85db6",
   "metadata": {
    "papermill": {
     "duration": 0.016072,
     "end_time": "2023-05-29T11:07:14.691627",
     "exception": false,
     "start_time": "2023-05-29T11:07:14.675555",
     "status": "completed"
    },
    "tags": []
   },
   "source": [
    "1. [Table of Content](#toc)\n",
    "\n",
    "\n",
    "2. [Pandas](#intro)\n",
    " * what is pandas?\n",
    " * why to use pandas?\n",
    " \n",
    " \n",
    "3. [what is dataframe?](#df)\n",
    " * locating rows\n",
    " * naming indexes\n",
    " * locating named indexes\n",
    " * reading file to data frame\n",
    " \n",
    " \n",
    "4. [Common things to do when we get data in a DataFrame](#start)\n",
    " * `df.shape`\n",
    " \n",
    " * `df.head()`\n",
    " \n",
    " * `df.tail()`\n",
    " \n",
    " * `df.dtypes`\n",
    " \n",
    " * `df.columns`\n",
    " \n",
    " * `df.nunique()`\n",
    " \n",
    " * `df.info()`\n",
    " \n",
    " * `df.describe()`\n",
    " \n",
    " \n",
    "5. [Data Cleaning](#cleaning) \n",
    "\n",
    " *checking duplicates:-*\n",
    "   * `unique()`\n",
    "   \n",
    "   * `duplicated()`\n",
    "   \n",
    "   * `drop_duplicates()`\n",
    "   \n",
    " *grouping data:-*\n",
    "  * `groupby()`\n",
    "  \n",
    "  \n",
    " *handling missing values:-*\n",
    " * method 1: dropping the missing values `dropna`\n",
    " * method 2: fiiling the missing values `fillna`\n",
    "\n",
    " \n",
    "6.[Working with Text Data](#textdata)\n",
    " * `str.upper()/lower()` \n",
    "\n",
    "* `str.len()` \n",
    "\n",
    "* `str.strip()/lstrip()/rstrip()` \n",
    "\n",
    "* `str.replace()` \n",
    "\n",
    "* `str.split()` \n",
    "\n",
    "* `str.get()` \n",
    "\n",
    "* `str.resplit()` \n",
    "\n",
    "* `str.extract()`\n",
    "\n",
    "\n",
    "\n",
    "7.[Plotting](#plot)\n",
    "\n",
    "* Scatter Plot\n",
    "\n",
    "* Histogram\n",
    " \n"
   ]
  },
  {
   "cell_type": "markdown",
   "id": "eb55b7f0",
   "metadata": {
    "papermill": {
     "duration": 0.016427,
     "end_time": "2023-05-29T11:07:14.725161",
     "exception": false,
     "start_time": "2023-05-29T11:07:14.708734",
     "status": "completed"
    },
    "tags": []
   },
   "source": [
    "<a id=\"intro\"></a>\n",
    "<h1 style='background:black; border:0; color:cyan'><center>Pandas</center><h1>"
   ]
  },
  {
   "cell_type": "markdown",
   "id": "5b44e415",
   "metadata": {
    "papermill": {
     "duration": 0.016476,
     "end_time": "2023-05-29T11:07:14.758111",
     "exception": false,
     "start_time": "2023-05-29T11:07:14.741635",
     "status": "completed"
    },
    "tags": []
   },
   "source": [
    "## **What is pandas?**\n",
    "Pandas is a Python library used for working with data sets.\n",
    "It has functions for analyzing, cleaning, exploring, and manipulating data.\n",
    "\n",
    "The source code for Pandas is located at this github repository https://github.com/pandas-dev/pandas\n",
    "\n",
    "## **Why use pandas?**\n",
    "Pandas allows us to analyze big data and make conclusions based on statistical theories.\n",
    "\n",
    "Pandas can clean messy data sets, and make them readable and relevant."
   ]
  },
  {
   "cell_type": "code",
   "execution_count": 1,
   "id": "bd004e7b",
   "metadata": {
    "execution": {
     "iopub.execute_input": "2023-05-29T11:07:14.793161Z",
     "iopub.status.busy": "2023-05-29T11:07:14.792626Z",
     "iopub.status.idle": "2023-05-29T11:07:14.805303Z",
     "shell.execute_reply": "2023-05-29T11:07:14.804359Z"
    },
    "papermill": {
     "duration": 0.03311,
     "end_time": "2023-05-29T11:07:14.807751",
     "exception": false,
     "start_time": "2023-05-29T11:07:14.774641",
     "status": "completed"
    },
    "tags": []
   },
   "outputs": [],
   "source": [
    "import pandas as pd #importing pandas"
   ]
  },
  {
   "cell_type": "markdown",
   "id": "7e73417b",
   "metadata": {
    "papermill": {
     "duration": 0.016137,
     "end_time": "2023-05-29T11:07:14.840870",
     "exception": false,
     "start_time": "2023-05-29T11:07:14.824733",
     "status": "completed"
    },
    "tags": []
   },
   "source": [
    "<a id=\"intro\"></a>\n",
    "<h1 style='background:black; border:0; color:cyan'><center>DataFrame</center><h1>\n"
   ]
  },
  {
   "cell_type": "markdown",
   "id": "c860a4e9",
   "metadata": {
    "papermill": {
     "duration": 0.016635,
     "end_time": "2023-05-29T11:07:14.876254",
     "exception": false,
     "start_time": "2023-05-29T11:07:14.859619",
     "status": "completed"
    },
    "tags": []
   },
   "source": [
    "## What is DataFrame?\n",
    "**dataframe is a 2-dimensional labeled data structure with rows and columns**"
   ]
  },
  {
   "cell_type": "code",
   "execution_count": 2,
   "id": "4a6dd148",
   "metadata": {
    "execution": {
     "iopub.execute_input": "2023-05-29T11:07:14.911631Z",
     "iopub.status.busy": "2023-05-29T11:07:14.910852Z",
     "iopub.status.idle": "2023-05-29T11:07:14.938803Z",
     "shell.execute_reply": "2023-05-29T11:07:14.937497Z"
    },
    "papermill": {
     "duration": 0.048906,
     "end_time": "2023-05-29T11:07:14.941591",
     "exception": false,
     "start_time": "2023-05-29T11:07:14.892685",
     "status": "completed"
    },
    "tags": []
   },
   "outputs": [
    {
     "name": "stdout",
     "output_type": "stream",
     "text": [
      "   marks  total marks\n",
      "0    420          500\n",
      "1    380          500\n",
      "2    390          500\n"
     ]
    }
   ],
   "source": [
    "\n",
    "#creating data frame\n",
    "\n",
    "dataf = {\n",
    "  \"marks\": [420, 380, 390],\n",
    "  \"total marks\": [500, 500, 500]\n",
    "}\n",
    "\n",
    "#load data into a DataFrame object:\n",
    "data = pd.DataFrame(dataf)\n",
    "\n",
    "print(data) \n"
   ]
  },
  {
   "cell_type": "markdown",
   "id": "679b09d2",
   "metadata": {
    "papermill": {
     "duration": 0.01708,
     "end_time": "2023-05-29T11:07:14.976022",
     "exception": false,
     "start_time": "2023-05-29T11:07:14.958942",
     "status": "completed"
    },
    "tags": []
   },
   "source": [
    "## locating rows:-\n",
    "**Pandas use the loc attribute to return one or more specified row(s)** "
   ]
  },
  {
   "cell_type": "code",
   "execution_count": 3,
   "id": "1106d0df",
   "metadata": {
    "execution": {
     "iopub.execute_input": "2023-05-29T11:07:15.011622Z",
     "iopub.status.busy": "2023-05-29T11:07:15.011216Z",
     "iopub.status.idle": "2023-05-29T11:07:15.017901Z",
     "shell.execute_reply": "2023-05-29T11:07:15.016756Z"
    },
    "papermill": {
     "duration": 0.027176,
     "end_time": "2023-05-29T11:07:15.020278",
     "exception": false,
     "start_time": "2023-05-29T11:07:14.993102",
     "status": "completed"
    },
    "tags": []
   },
   "outputs": [
    {
     "name": "stdout",
     "output_type": "stream",
     "text": [
      "marks          420\n",
      "total marks    500\n",
      "Name: 0, dtype: int64\n"
     ]
    }
   ],
   "source": [
    "print(data.loc[0])"
   ]
  },
  {
   "cell_type": "code",
   "execution_count": 4,
   "id": "6f845932",
   "metadata": {
    "execution": {
     "iopub.execute_input": "2023-05-29T11:07:15.056776Z",
     "iopub.status.busy": "2023-05-29T11:07:15.056358Z",
     "iopub.status.idle": "2023-05-29T11:07:15.070208Z",
     "shell.execute_reply": "2023-05-29T11:07:15.069083Z"
    },
    "papermill": {
     "duration": 0.035016,
     "end_time": "2023-05-29T11:07:15.072544",
     "exception": false,
     "start_time": "2023-05-29T11:07:15.037528",
     "status": "completed"
    },
    "tags": []
   },
   "outputs": [
    {
     "name": "stdout",
     "output_type": "stream",
     "text": [
      "   marks  total marks\n",
      "0    420          500\n",
      "1    380          500\n"
     ]
    }
   ],
   "source": [
    "print(data.loc[[0, 1]])"
   ]
  },
  {
   "cell_type": "markdown",
   "id": "dbb0100a",
   "metadata": {
    "papermill": {
     "duration": 0.017013,
     "end_time": "2023-05-29T11:07:15.106527",
     "exception": false,
     "start_time": "2023-05-29T11:07:15.089514",
     "status": "completed"
    },
    "tags": []
   },
   "source": [
    "## naming indexes\n",
    "**With the index argument, you can name your own indexes**"
   ]
  },
  {
   "cell_type": "code",
   "execution_count": 5,
   "id": "b1f1af69",
   "metadata": {
    "execution": {
     "iopub.execute_input": "2023-05-29T11:07:15.143948Z",
     "iopub.status.busy": "2023-05-29T11:07:15.143567Z",
     "iopub.status.idle": "2023-05-29T11:07:15.151155Z",
     "shell.execute_reply": "2023-05-29T11:07:15.149907Z"
    },
    "papermill": {
     "duration": 0.029526,
     "end_time": "2023-05-29T11:07:15.153726",
     "exception": false,
     "start_time": "2023-05-29T11:07:15.124200",
     "status": "completed"
    },
    "tags": []
   },
   "outputs": [
    {
     "name": "stdout",
     "output_type": "stream",
     "text": [
      "   marks  total marks\n",
      "A    420          500\n",
      "B    380          500\n",
      "C    390          500\n"
     ]
    }
   ],
   "source": [
    "df = pd.DataFrame(dataf, index = [\"A\", \"B\", \"C\"])\n",
    "\n",
    "print(df) "
   ]
  },
  {
   "cell_type": "markdown",
   "id": "381b25cc",
   "metadata": {
    "papermill": {
     "duration": 0.016551,
     "end_time": "2023-05-29T11:07:15.187053",
     "exception": false,
     "start_time": "2023-05-29T11:07:15.170502",
     "status": "completed"
    },
    "tags": []
   },
   "source": [
    "## locating named indexes :-\n",
    "**Use the named index in the loc attribute to return the specified row(s).**"
   ]
  },
  {
   "cell_type": "code",
   "execution_count": 6,
   "id": "b7a89ceb",
   "metadata": {
    "execution": {
     "iopub.execute_input": "2023-05-29T11:07:15.223677Z",
     "iopub.status.busy": "2023-05-29T11:07:15.223255Z",
     "iopub.status.idle": "2023-05-29T11:07:15.229583Z",
     "shell.execute_reply": "2023-05-29T11:07:15.228399Z"
    },
    "papermill": {
     "duration": 0.028025,
     "end_time": "2023-05-29T11:07:15.232386",
     "exception": false,
     "start_time": "2023-05-29T11:07:15.204361",
     "status": "completed"
    },
    "tags": []
   },
   "outputs": [
    {
     "name": "stdout",
     "output_type": "stream",
     "text": [
      "marks          380\n",
      "total marks    500\n",
      "Name: B, dtype: int64\n"
     ]
    }
   ],
   "source": [
    "print(df.loc[\"B\"])"
   ]
  },
  {
   "cell_type": "markdown",
   "id": "ec4f8e89",
   "metadata": {
    "papermill": {
     "duration": 0.016592,
     "end_time": "2023-05-29T11:07:15.266050",
     "exception": false,
     "start_time": "2023-05-29T11:07:15.249458",
     "status": "completed"
    },
    "tags": []
   },
   "source": [
    "## reading file to dataframe:-"
   ]
  },
  {
   "cell_type": "code",
   "execution_count": 7,
   "id": "b240054d",
   "metadata": {
    "execution": {
     "iopub.execute_input": "2023-05-29T11:07:15.301823Z",
     "iopub.status.busy": "2023-05-29T11:07:15.301453Z",
     "iopub.status.idle": "2023-05-29T11:07:15.328477Z",
     "shell.execute_reply": "2023-05-29T11:07:15.327279Z"
    },
    "papermill": {
     "duration": 0.048425,
     "end_time": "2023-05-29T11:07:15.331600",
     "exception": false,
     "start_time": "2023-05-29T11:07:15.283175",
     "status": "completed"
    },
    "tags": []
   },
   "outputs": [],
   "source": [
    "df = pd.read_csv('/kaggle/input/titanic/train.csv')"
   ]
  },
  {
   "cell_type": "markdown",
   "id": "e9f28b65",
   "metadata": {
    "papermill": {
     "duration": 0.016796,
     "end_time": "2023-05-29T11:07:15.366360",
     "exception": false,
     "start_time": "2023-05-29T11:07:15.349564",
     "status": "completed"
    },
    "tags": []
   },
   "source": [
    "<a id=\"start\"></a>\n",
    "<h1 style='background:black; border:0; color:cyan'><center>Common things to do when we get data in a DataFrame</center><h1>\n",
    "\n"
   ]
  },
  {
   "cell_type": "markdown",
   "id": "12d772c9",
   "metadata": {
    "papermill": {
     "duration": 0.017225,
     "end_time": "2023-05-29T11:07:15.400633",
     "exception": false,
     "start_time": "2023-05-29T11:07:15.383408",
     "status": "completed"
    },
    "tags": []
   },
   "source": [
    "* **see dataframe shape (number of rows, number of columns) using `df.shape`**\n",
    "\n",
    "* **see top 5 rows using `df.head()`**\n",
    "\n",
    "* **see bottom 5 rows using `df.tail()`**\n",
    "\n",
    "* **check datatype of each column using `df.dtypes`**\n",
    "\n",
    "* **check column names using `df.columns`**\n",
    "\n",
    "* **count unique values of each column to see cardinality levels using `df.nunique()`**\n",
    "\n",
    "* **number of non null in each column, memory usage of df, datatype (especially for large df) using `df.info()`**\n",
    "\n",
    "* **The describe method shows basic statistical characteristics of each numerical feature (int64 and float64 types): number of non-missing values, mean, standard deviation, range, median, 0.25 and 0.75 quartiles using `df.describe()`**"
   ]
  },
  {
   "cell_type": "code",
   "execution_count": 8,
   "id": "bc4ac36a",
   "metadata": {
    "execution": {
     "iopub.execute_input": "2023-05-29T11:07:15.437429Z",
     "iopub.status.busy": "2023-05-29T11:07:15.437022Z",
     "iopub.status.idle": "2023-05-29T11:07:15.445223Z",
     "shell.execute_reply": "2023-05-29T11:07:15.444045Z"
    },
    "papermill": {
     "duration": 0.029848,
     "end_time": "2023-05-29T11:07:15.447740",
     "exception": false,
     "start_time": "2023-05-29T11:07:15.417892",
     "status": "completed"
    },
    "tags": []
   },
   "outputs": [
    {
     "data": {
      "text/plain": [
       "(891, 12)"
      ]
     },
     "execution_count": 8,
     "metadata": {},
     "output_type": "execute_result"
    }
   ],
   "source": [
    "df.shape"
   ]
  },
  {
   "cell_type": "code",
   "execution_count": 9,
   "id": "87d4fb71",
   "metadata": {
    "execution": {
     "iopub.execute_input": "2023-05-29T11:07:15.484425Z",
     "iopub.status.busy": "2023-05-29T11:07:15.484004Z",
     "iopub.status.idle": "2023-05-29T11:07:15.509193Z",
     "shell.execute_reply": "2023-05-29T11:07:15.508005Z"
    },
    "papermill": {
     "duration": 0.046671,
     "end_time": "2023-05-29T11:07:15.511798",
     "exception": false,
     "start_time": "2023-05-29T11:07:15.465127",
     "status": "completed"
    },
    "tags": []
   },
   "outputs": [
    {
     "data": {
      "text/html": [
       "<div>\n",
       "<style scoped>\n",
       "    .dataframe tbody tr th:only-of-type {\n",
       "        vertical-align: middle;\n",
       "    }\n",
       "\n",
       "    .dataframe tbody tr th {\n",
       "        vertical-align: top;\n",
       "    }\n",
       "\n",
       "    .dataframe thead th {\n",
       "        text-align: right;\n",
       "    }\n",
       "</style>\n",
       "<table border=\"1\" class=\"dataframe\">\n",
       "  <thead>\n",
       "    <tr style=\"text-align: right;\">\n",
       "      <th></th>\n",
       "      <th>PassengerId</th>\n",
       "      <th>Survived</th>\n",
       "      <th>Pclass</th>\n",
       "      <th>Name</th>\n",
       "      <th>Sex</th>\n",
       "      <th>Age</th>\n",
       "      <th>SibSp</th>\n",
       "      <th>Parch</th>\n",
       "      <th>Ticket</th>\n",
       "      <th>Fare</th>\n",
       "      <th>Cabin</th>\n",
       "      <th>Embarked</th>\n",
       "    </tr>\n",
       "  </thead>\n",
       "  <tbody>\n",
       "    <tr>\n",
       "      <th>0</th>\n",
       "      <td>1</td>\n",
       "      <td>0</td>\n",
       "      <td>3</td>\n",
       "      <td>Braund, Mr. Owen Harris</td>\n",
       "      <td>male</td>\n",
       "      <td>22.0</td>\n",
       "      <td>1</td>\n",
       "      <td>0</td>\n",
       "      <td>A/5 21171</td>\n",
       "      <td>7.2500</td>\n",
       "      <td>NaN</td>\n",
       "      <td>S</td>\n",
       "    </tr>\n",
       "    <tr>\n",
       "      <th>1</th>\n",
       "      <td>2</td>\n",
       "      <td>1</td>\n",
       "      <td>1</td>\n",
       "      <td>Cumings, Mrs. John Bradley (Florence Briggs Th...</td>\n",
       "      <td>female</td>\n",
       "      <td>38.0</td>\n",
       "      <td>1</td>\n",
       "      <td>0</td>\n",
       "      <td>PC 17599</td>\n",
       "      <td>71.2833</td>\n",
       "      <td>C85</td>\n",
       "      <td>C</td>\n",
       "    </tr>\n",
       "    <tr>\n",
       "      <th>2</th>\n",
       "      <td>3</td>\n",
       "      <td>1</td>\n",
       "      <td>3</td>\n",
       "      <td>Heikkinen, Miss. Laina</td>\n",
       "      <td>female</td>\n",
       "      <td>26.0</td>\n",
       "      <td>0</td>\n",
       "      <td>0</td>\n",
       "      <td>STON/O2. 3101282</td>\n",
       "      <td>7.9250</td>\n",
       "      <td>NaN</td>\n",
       "      <td>S</td>\n",
       "    </tr>\n",
       "    <tr>\n",
       "      <th>3</th>\n",
       "      <td>4</td>\n",
       "      <td>1</td>\n",
       "      <td>1</td>\n",
       "      <td>Futrelle, Mrs. Jacques Heath (Lily May Peel)</td>\n",
       "      <td>female</td>\n",
       "      <td>35.0</td>\n",
       "      <td>1</td>\n",
       "      <td>0</td>\n",
       "      <td>113803</td>\n",
       "      <td>53.1000</td>\n",
       "      <td>C123</td>\n",
       "      <td>S</td>\n",
       "    </tr>\n",
       "    <tr>\n",
       "      <th>4</th>\n",
       "      <td>5</td>\n",
       "      <td>0</td>\n",
       "      <td>3</td>\n",
       "      <td>Allen, Mr. William Henry</td>\n",
       "      <td>male</td>\n",
       "      <td>35.0</td>\n",
       "      <td>0</td>\n",
       "      <td>0</td>\n",
       "      <td>373450</td>\n",
       "      <td>8.0500</td>\n",
       "      <td>NaN</td>\n",
       "      <td>S</td>\n",
       "    </tr>\n",
       "  </tbody>\n",
       "</table>\n",
       "</div>"
      ],
      "text/plain": [
       "   PassengerId  Survived  Pclass  \\\n",
       "0            1         0       3   \n",
       "1            2         1       1   \n",
       "2            3         1       3   \n",
       "3            4         1       1   \n",
       "4            5         0       3   \n",
       "\n",
       "                                                Name     Sex   Age  SibSp  \\\n",
       "0                            Braund, Mr. Owen Harris    male  22.0      1   \n",
       "1  Cumings, Mrs. John Bradley (Florence Briggs Th...  female  38.0      1   \n",
       "2                             Heikkinen, Miss. Laina  female  26.0      0   \n",
       "3       Futrelle, Mrs. Jacques Heath (Lily May Peel)  female  35.0      1   \n",
       "4                           Allen, Mr. William Henry    male  35.0      0   \n",
       "\n",
       "   Parch            Ticket     Fare Cabin Embarked  \n",
       "0      0         A/5 21171   7.2500   NaN        S  \n",
       "1      0          PC 17599  71.2833   C85        C  \n",
       "2      0  STON/O2. 3101282   7.9250   NaN        S  \n",
       "3      0            113803  53.1000  C123        S  \n",
       "4      0            373450   8.0500   NaN        S  "
      ]
     },
     "execution_count": 9,
     "metadata": {},
     "output_type": "execute_result"
    }
   ],
   "source": [
    "df.head()"
   ]
  },
  {
   "cell_type": "code",
   "execution_count": 10,
   "id": "8043da14",
   "metadata": {
    "execution": {
     "iopub.execute_input": "2023-05-29T11:07:15.549247Z",
     "iopub.status.busy": "2023-05-29T11:07:15.548848Z",
     "iopub.status.idle": "2023-05-29T11:07:15.567053Z",
     "shell.execute_reply": "2023-05-29T11:07:15.565974Z"
    },
    "papermill": {
     "duration": 0.039875,
     "end_time": "2023-05-29T11:07:15.569672",
     "exception": false,
     "start_time": "2023-05-29T11:07:15.529797",
     "status": "completed"
    },
    "tags": []
   },
   "outputs": [
    {
     "data": {
      "text/html": [
       "<div>\n",
       "<style scoped>\n",
       "    .dataframe tbody tr th:only-of-type {\n",
       "        vertical-align: middle;\n",
       "    }\n",
       "\n",
       "    .dataframe tbody tr th {\n",
       "        vertical-align: top;\n",
       "    }\n",
       "\n",
       "    .dataframe thead th {\n",
       "        text-align: right;\n",
       "    }\n",
       "</style>\n",
       "<table border=\"1\" class=\"dataframe\">\n",
       "  <thead>\n",
       "    <tr style=\"text-align: right;\">\n",
       "      <th></th>\n",
       "      <th>PassengerId</th>\n",
       "      <th>Survived</th>\n",
       "      <th>Pclass</th>\n",
       "      <th>Name</th>\n",
       "      <th>Sex</th>\n",
       "      <th>Age</th>\n",
       "      <th>SibSp</th>\n",
       "      <th>Parch</th>\n",
       "      <th>Ticket</th>\n",
       "      <th>Fare</th>\n",
       "      <th>Cabin</th>\n",
       "      <th>Embarked</th>\n",
       "    </tr>\n",
       "  </thead>\n",
       "  <tbody>\n",
       "    <tr>\n",
       "      <th>886</th>\n",
       "      <td>887</td>\n",
       "      <td>0</td>\n",
       "      <td>2</td>\n",
       "      <td>Montvila, Rev. Juozas</td>\n",
       "      <td>male</td>\n",
       "      <td>27.0</td>\n",
       "      <td>0</td>\n",
       "      <td>0</td>\n",
       "      <td>211536</td>\n",
       "      <td>13.00</td>\n",
       "      <td>NaN</td>\n",
       "      <td>S</td>\n",
       "    </tr>\n",
       "    <tr>\n",
       "      <th>887</th>\n",
       "      <td>888</td>\n",
       "      <td>1</td>\n",
       "      <td>1</td>\n",
       "      <td>Graham, Miss. Margaret Edith</td>\n",
       "      <td>female</td>\n",
       "      <td>19.0</td>\n",
       "      <td>0</td>\n",
       "      <td>0</td>\n",
       "      <td>112053</td>\n",
       "      <td>30.00</td>\n",
       "      <td>B42</td>\n",
       "      <td>S</td>\n",
       "    </tr>\n",
       "    <tr>\n",
       "      <th>888</th>\n",
       "      <td>889</td>\n",
       "      <td>0</td>\n",
       "      <td>3</td>\n",
       "      <td>Johnston, Miss. Catherine Helen \"Carrie\"</td>\n",
       "      <td>female</td>\n",
       "      <td>NaN</td>\n",
       "      <td>1</td>\n",
       "      <td>2</td>\n",
       "      <td>W./C. 6607</td>\n",
       "      <td>23.45</td>\n",
       "      <td>NaN</td>\n",
       "      <td>S</td>\n",
       "    </tr>\n",
       "    <tr>\n",
       "      <th>889</th>\n",
       "      <td>890</td>\n",
       "      <td>1</td>\n",
       "      <td>1</td>\n",
       "      <td>Behr, Mr. Karl Howell</td>\n",
       "      <td>male</td>\n",
       "      <td>26.0</td>\n",
       "      <td>0</td>\n",
       "      <td>0</td>\n",
       "      <td>111369</td>\n",
       "      <td>30.00</td>\n",
       "      <td>C148</td>\n",
       "      <td>C</td>\n",
       "    </tr>\n",
       "    <tr>\n",
       "      <th>890</th>\n",
       "      <td>891</td>\n",
       "      <td>0</td>\n",
       "      <td>3</td>\n",
       "      <td>Dooley, Mr. Patrick</td>\n",
       "      <td>male</td>\n",
       "      <td>32.0</td>\n",
       "      <td>0</td>\n",
       "      <td>0</td>\n",
       "      <td>370376</td>\n",
       "      <td>7.75</td>\n",
       "      <td>NaN</td>\n",
       "      <td>Q</td>\n",
       "    </tr>\n",
       "  </tbody>\n",
       "</table>\n",
       "</div>"
      ],
      "text/plain": [
       "     PassengerId  Survived  Pclass                                      Name  \\\n",
       "886          887         0       2                     Montvila, Rev. Juozas   \n",
       "887          888         1       1              Graham, Miss. Margaret Edith   \n",
       "888          889         0       3  Johnston, Miss. Catherine Helen \"Carrie\"   \n",
       "889          890         1       1                     Behr, Mr. Karl Howell   \n",
       "890          891         0       3                       Dooley, Mr. Patrick   \n",
       "\n",
       "        Sex   Age  SibSp  Parch      Ticket   Fare Cabin Embarked  \n",
       "886    male  27.0      0      0      211536  13.00   NaN        S  \n",
       "887  female  19.0      0      0      112053  30.00   B42        S  \n",
       "888  female   NaN      1      2  W./C. 6607  23.45   NaN        S  \n",
       "889    male  26.0      0      0      111369  30.00  C148        C  \n",
       "890    male  32.0      0      0      370376   7.75   NaN        Q  "
      ]
     },
     "execution_count": 10,
     "metadata": {},
     "output_type": "execute_result"
    }
   ],
   "source": [
    "df.tail()"
   ]
  },
  {
   "cell_type": "code",
   "execution_count": 11,
   "id": "ce966003",
   "metadata": {
    "execution": {
     "iopub.execute_input": "2023-05-29T11:07:15.608237Z",
     "iopub.status.busy": "2023-05-29T11:07:15.607836Z",
     "iopub.status.idle": "2023-05-29T11:07:15.616274Z",
     "shell.execute_reply": "2023-05-29T11:07:15.615191Z"
    },
    "papermill": {
     "duration": 0.030061,
     "end_time": "2023-05-29T11:07:15.618577",
     "exception": false,
     "start_time": "2023-05-29T11:07:15.588516",
     "status": "completed"
    },
    "tags": []
   },
   "outputs": [
    {
     "data": {
      "text/plain": [
       "PassengerId      int64\n",
       "Survived         int64\n",
       "Pclass           int64\n",
       "Name            object\n",
       "Sex             object\n",
       "Age            float64\n",
       "SibSp            int64\n",
       "Parch            int64\n",
       "Ticket          object\n",
       "Fare           float64\n",
       "Cabin           object\n",
       "Embarked        object\n",
       "dtype: object"
      ]
     },
     "execution_count": 11,
     "metadata": {},
     "output_type": "execute_result"
    }
   ],
   "source": [
    "df.dtypes"
   ]
  },
  {
   "cell_type": "code",
   "execution_count": 12,
   "id": "588c30b1",
   "metadata": {
    "execution": {
     "iopub.execute_input": "2023-05-29T11:07:15.658530Z",
     "iopub.status.busy": "2023-05-29T11:07:15.658136Z",
     "iopub.status.idle": "2023-05-29T11:07:15.666233Z",
     "shell.execute_reply": "2023-05-29T11:07:15.665009Z"
    },
    "papermill": {
     "duration": 0.031279,
     "end_time": "2023-05-29T11:07:15.669036",
     "exception": false,
     "start_time": "2023-05-29T11:07:15.637757",
     "status": "completed"
    },
    "tags": []
   },
   "outputs": [
    {
     "data": {
      "text/plain": [
       "Index(['PassengerId', 'Survived', 'Pclass', 'Name', 'Sex', 'Age', 'SibSp',\n",
       "       'Parch', 'Ticket', 'Fare', 'Cabin', 'Embarked'],\n",
       "      dtype='object')"
      ]
     },
     "execution_count": 12,
     "metadata": {},
     "output_type": "execute_result"
    }
   ],
   "source": [
    "df.columns"
   ]
  },
  {
   "cell_type": "code",
   "execution_count": 13,
   "id": "0a97c4ec",
   "metadata": {
    "execution": {
     "iopub.execute_input": "2023-05-29T11:07:15.707186Z",
     "iopub.status.busy": "2023-05-29T11:07:15.706760Z",
     "iopub.status.idle": "2023-05-29T11:07:15.722219Z",
     "shell.execute_reply": "2023-05-29T11:07:15.721350Z"
    },
    "papermill": {
     "duration": 0.037141,
     "end_time": "2023-05-29T11:07:15.724502",
     "exception": false,
     "start_time": "2023-05-29T11:07:15.687361",
     "status": "completed"
    },
    "tags": []
   },
   "outputs": [
    {
     "data": {
      "text/plain": [
       "PassengerId    891\n",
       "Survived         2\n",
       "Pclass           3\n",
       "Name           891\n",
       "Sex              2\n",
       "Age             88\n",
       "SibSp            7\n",
       "Parch            7\n",
       "Ticket         681\n",
       "Fare           248\n",
       "Cabin          147\n",
       "Embarked         3\n",
       "dtype: int64"
      ]
     },
     "execution_count": 13,
     "metadata": {},
     "output_type": "execute_result"
    }
   ],
   "source": [
    "df.nunique()"
   ]
  },
  {
   "cell_type": "code",
   "execution_count": 14,
   "id": "e954bbd2",
   "metadata": {
    "execution": {
     "iopub.execute_input": "2023-05-29T11:07:15.764111Z",
     "iopub.status.busy": "2023-05-29T11:07:15.763213Z",
     "iopub.status.idle": "2023-05-29T11:07:15.786301Z",
     "shell.execute_reply": "2023-05-29T11:07:15.784416Z"
    },
    "papermill": {
     "duration": 0.045093,
     "end_time": "2023-05-29T11:07:15.788771",
     "exception": false,
     "start_time": "2023-05-29T11:07:15.743678",
     "status": "completed"
    },
    "tags": []
   },
   "outputs": [
    {
     "name": "stdout",
     "output_type": "stream",
     "text": [
      "<class 'pandas.core.frame.DataFrame'>\n",
      "RangeIndex: 891 entries, 0 to 890\n",
      "Data columns (total 12 columns):\n",
      " #   Column       Non-Null Count  Dtype  \n",
      "---  ------       --------------  -----  \n",
      " 0   PassengerId  891 non-null    int64  \n",
      " 1   Survived     891 non-null    int64  \n",
      " 2   Pclass       891 non-null    int64  \n",
      " 3   Name         891 non-null    object \n",
      " 4   Sex          891 non-null    object \n",
      " 5   Age          714 non-null    float64\n",
      " 6   SibSp        891 non-null    int64  \n",
      " 7   Parch        891 non-null    int64  \n",
      " 8   Ticket       891 non-null    object \n",
      " 9   Fare         891 non-null    float64\n",
      " 10  Cabin        204 non-null    object \n",
      " 11  Embarked     889 non-null    object \n",
      "dtypes: float64(2), int64(5), object(5)\n",
      "memory usage: 83.7+ KB\n"
     ]
    }
   ],
   "source": [
    "df.info()"
   ]
  },
  {
   "cell_type": "code",
   "execution_count": 15,
   "id": "08e763fe",
   "metadata": {
    "execution": {
     "iopub.execute_input": "2023-05-29T11:07:15.827561Z",
     "iopub.status.busy": "2023-05-29T11:07:15.826897Z",
     "iopub.status.idle": "2023-05-29T11:07:15.863416Z",
     "shell.execute_reply": "2023-05-29T11:07:15.862283Z"
    },
    "papermill": {
     "duration": 0.058791,
     "end_time": "2023-05-29T11:07:15.865935",
     "exception": false,
     "start_time": "2023-05-29T11:07:15.807144",
     "status": "completed"
    },
    "tags": []
   },
   "outputs": [
    {
     "data": {
      "text/html": [
       "<div>\n",
       "<style scoped>\n",
       "    .dataframe tbody tr th:only-of-type {\n",
       "        vertical-align: middle;\n",
       "    }\n",
       "\n",
       "    .dataframe tbody tr th {\n",
       "        vertical-align: top;\n",
       "    }\n",
       "\n",
       "    .dataframe thead th {\n",
       "        text-align: right;\n",
       "    }\n",
       "</style>\n",
       "<table border=\"1\" class=\"dataframe\">\n",
       "  <thead>\n",
       "    <tr style=\"text-align: right;\">\n",
       "      <th></th>\n",
       "      <th>PassengerId</th>\n",
       "      <th>Survived</th>\n",
       "      <th>Pclass</th>\n",
       "      <th>Age</th>\n",
       "      <th>SibSp</th>\n",
       "      <th>Parch</th>\n",
       "      <th>Fare</th>\n",
       "    </tr>\n",
       "  </thead>\n",
       "  <tbody>\n",
       "    <tr>\n",
       "      <th>count</th>\n",
       "      <td>891.000000</td>\n",
       "      <td>891.000000</td>\n",
       "      <td>891.000000</td>\n",
       "      <td>714.000000</td>\n",
       "      <td>891.000000</td>\n",
       "      <td>891.000000</td>\n",
       "      <td>891.000000</td>\n",
       "    </tr>\n",
       "    <tr>\n",
       "      <th>mean</th>\n",
       "      <td>446.000000</td>\n",
       "      <td>0.383838</td>\n",
       "      <td>2.308642</td>\n",
       "      <td>29.699118</td>\n",
       "      <td>0.523008</td>\n",
       "      <td>0.381594</td>\n",
       "      <td>32.204208</td>\n",
       "    </tr>\n",
       "    <tr>\n",
       "      <th>std</th>\n",
       "      <td>257.353842</td>\n",
       "      <td>0.486592</td>\n",
       "      <td>0.836071</td>\n",
       "      <td>14.526497</td>\n",
       "      <td>1.102743</td>\n",
       "      <td>0.806057</td>\n",
       "      <td>49.693429</td>\n",
       "    </tr>\n",
       "    <tr>\n",
       "      <th>min</th>\n",
       "      <td>1.000000</td>\n",
       "      <td>0.000000</td>\n",
       "      <td>1.000000</td>\n",
       "      <td>0.420000</td>\n",
       "      <td>0.000000</td>\n",
       "      <td>0.000000</td>\n",
       "      <td>0.000000</td>\n",
       "    </tr>\n",
       "    <tr>\n",
       "      <th>25%</th>\n",
       "      <td>223.500000</td>\n",
       "      <td>0.000000</td>\n",
       "      <td>2.000000</td>\n",
       "      <td>20.125000</td>\n",
       "      <td>0.000000</td>\n",
       "      <td>0.000000</td>\n",
       "      <td>7.910400</td>\n",
       "    </tr>\n",
       "    <tr>\n",
       "      <th>50%</th>\n",
       "      <td>446.000000</td>\n",
       "      <td>0.000000</td>\n",
       "      <td>3.000000</td>\n",
       "      <td>28.000000</td>\n",
       "      <td>0.000000</td>\n",
       "      <td>0.000000</td>\n",
       "      <td>14.454200</td>\n",
       "    </tr>\n",
       "    <tr>\n",
       "      <th>75%</th>\n",
       "      <td>668.500000</td>\n",
       "      <td>1.000000</td>\n",
       "      <td>3.000000</td>\n",
       "      <td>38.000000</td>\n",
       "      <td>1.000000</td>\n",
       "      <td>0.000000</td>\n",
       "      <td>31.000000</td>\n",
       "    </tr>\n",
       "    <tr>\n",
       "      <th>max</th>\n",
       "      <td>891.000000</td>\n",
       "      <td>1.000000</td>\n",
       "      <td>3.000000</td>\n",
       "      <td>80.000000</td>\n",
       "      <td>8.000000</td>\n",
       "      <td>6.000000</td>\n",
       "      <td>512.329200</td>\n",
       "    </tr>\n",
       "  </tbody>\n",
       "</table>\n",
       "</div>"
      ],
      "text/plain": [
       "       PassengerId    Survived      Pclass         Age       SibSp  \\\n",
       "count   891.000000  891.000000  891.000000  714.000000  891.000000   \n",
       "mean    446.000000    0.383838    2.308642   29.699118    0.523008   \n",
       "std     257.353842    0.486592    0.836071   14.526497    1.102743   \n",
       "min       1.000000    0.000000    1.000000    0.420000    0.000000   \n",
       "25%     223.500000    0.000000    2.000000   20.125000    0.000000   \n",
       "50%     446.000000    0.000000    3.000000   28.000000    0.000000   \n",
       "75%     668.500000    1.000000    3.000000   38.000000    1.000000   \n",
       "max     891.000000    1.000000    3.000000   80.000000    8.000000   \n",
       "\n",
       "            Parch        Fare  \n",
       "count  891.000000  891.000000  \n",
       "mean     0.381594   32.204208  \n",
       "std      0.806057   49.693429  \n",
       "min      0.000000    0.000000  \n",
       "25%      0.000000    7.910400  \n",
       "50%      0.000000   14.454200  \n",
       "75%      0.000000   31.000000  \n",
       "max      6.000000  512.329200  "
      ]
     },
     "execution_count": 15,
     "metadata": {},
     "output_type": "execute_result"
    }
   ],
   "source": [
    "df.describe()"
   ]
  },
  {
   "cell_type": "markdown",
   "id": "1d55fd17",
   "metadata": {
    "papermill": {
     "duration": 0.018548,
     "end_time": "2023-05-29T11:07:15.904210",
     "exception": false,
     "start_time": "2023-05-29T11:07:15.885662",
     "status": "completed"
    },
    "tags": []
   },
   "source": [
    "\n",
    "<a id=\"cleaning\"></a>\n",
    "<h1 style='background:black; border:0; color:cyan'><center>Data Cleaning</center><h1>\n",
    "\n"
   ]
  },
  {
   "cell_type": "markdown",
   "id": "f927be8f",
   "metadata": {
    "papermill": {
     "duration": 0.018363,
     "end_time": "2023-05-29T11:07:15.941210",
     "exception": false,
     "start_time": "2023-05-29T11:07:15.922847",
     "status": "completed"
    },
    "tags": []
   },
   "source": [
    "# Data Cleaning\n",
    "**means fixing bad data in your data set.**\n",
    "\n",
    "**Bad data could be:**\n",
    " * Empty cells\n",
    " * Data in wrong format\n",
    " * Wrong data\n",
    " * Duplicates\n",
    " \n",
    "**In this tutorial you will learn how to deal with all of them.**"
   ]
  },
  {
   "cell_type": "markdown",
   "id": "b676ab8c",
   "metadata": {
    "papermill": {
     "duration": 0.01858,
     "end_time": "2023-05-29T11:07:15.978762",
     "exception": false,
     "start_time": "2023-05-29T11:07:15.960182",
     "status": "completed"
    },
    "tags": []
   },
   "source": [
    "## 1.checking duplicates"
   ]
  },
  {
   "cell_type": "markdown",
   "id": "745e6f9f",
   "metadata": {
    "papermill": {
     "duration": 0.01853,
     "end_time": "2023-05-29T11:07:16.016414",
     "exception": false,
     "start_time": "2023-05-29T11:07:15.997884",
     "status": "completed"
    },
    "tags": []
   },
   "source": [
    "`unique()`\n",
    "\n",
    "**Number of unique values in a column of df (Use nunique() for count of unique in each column)**"
   ]
  },
  {
   "cell_type": "code",
   "execution_count": 16,
   "id": "19858496",
   "metadata": {
    "execution": {
     "iopub.execute_input": "2023-05-29T11:07:16.056831Z",
     "iopub.status.busy": "2023-05-29T11:07:16.056445Z",
     "iopub.status.idle": "2023-05-29T11:07:16.064647Z",
     "shell.execute_reply": "2023-05-29T11:07:16.063390Z"
    },
    "papermill": {
     "duration": 0.031655,
     "end_time": "2023-05-29T11:07:16.067205",
     "exception": false,
     "start_time": "2023-05-29T11:07:16.035550",
     "status": "completed"
    },
    "tags": []
   },
   "outputs": [
    {
     "data": {
      "text/plain": [
       "array(['male', 'female'], dtype=object)"
      ]
     },
     "execution_count": 16,
     "metadata": {},
     "output_type": "execute_result"
    }
   ],
   "source": [
    "df.Sex.unique()"
   ]
  },
  {
   "cell_type": "markdown",
   "id": "fe6b9ac4",
   "metadata": {
    "papermill": {
     "duration": 0.01868,
     "end_time": "2023-05-29T11:07:16.105517",
     "exception": false,
     "start_time": "2023-05-29T11:07:16.086837",
     "status": "completed"
    },
    "tags": []
   },
   "source": [
    "`duplicated()`\n",
    "\n",
    "**Check duplicated in column. Returns True/False**"
   ]
  },
  {
   "cell_type": "code",
   "execution_count": 17,
   "id": "d69a78eb",
   "metadata": {
    "execution": {
     "iopub.execute_input": "2023-05-29T11:07:16.144942Z",
     "iopub.status.busy": "2023-05-29T11:07:16.144536Z",
     "iopub.status.idle": "2023-05-29T11:07:16.151511Z",
     "shell.execute_reply": "2023-05-29T11:07:16.150515Z"
    },
    "papermill": {
     "duration": 0.02928,
     "end_time": "2023-05-29T11:07:16.153594",
     "exception": false,
     "start_time": "2023-05-29T11:07:16.124314",
     "status": "completed"
    },
    "tags": []
   },
   "outputs": [
    {
     "data": {
      "text/plain": [
       "0"
      ]
     },
     "execution_count": 17,
     "metadata": {},
     "output_type": "execute_result"
    }
   ],
   "source": [
    "# check duplicates in index .\n",
    "# useful if doubtful about duplicates in index doing bad things \n",
    "sum(df.index.duplicated())"
   ]
  },
  {
   "cell_type": "code",
   "execution_count": 18,
   "id": "efa10eac",
   "metadata": {
    "execution": {
     "iopub.execute_input": "2023-05-29T11:07:16.194922Z",
     "iopub.status.busy": "2023-05-29T11:07:16.194330Z",
     "iopub.status.idle": "2023-05-29T11:07:16.200264Z",
     "shell.execute_reply": "2023-05-29T11:07:16.199464Z"
    },
    "papermill": {
     "duration": 0.029186,
     "end_time": "2023-05-29T11:07:16.202436",
     "exception": false,
     "start_time": "2023-05-29T11:07:16.173250",
     "status": "completed"
    },
    "tags": []
   },
   "outputs": [
    {
     "data": {
      "text/plain": [
       "0"
      ]
     },
     "execution_count": 18,
     "metadata": {},
     "output_type": "execute_result"
    }
   ],
   "source": [
    "sum(df.PassengerId.duplicated())\n",
    "# there are no duplicate passegerid."
   ]
  },
  {
   "cell_type": "markdown",
   "id": "ca2f04de",
   "metadata": {
    "papermill": {
     "duration": 0.019396,
     "end_time": "2023-05-29T11:07:16.241744",
     "exception": false,
     "start_time": "2023-05-29T11:07:16.222348",
     "status": "completed"
    },
    "tags": []
   },
   "source": [
    "`drop_duplicates()`\n",
    "\n",
    "**Drop rows which have duplicates**"
   ]
  },
  {
   "cell_type": "code",
   "execution_count": 19,
   "id": "154d1a65",
   "metadata": {
    "execution": {
     "iopub.execute_input": "2023-05-29T11:07:16.282118Z",
     "iopub.status.busy": "2023-05-29T11:07:16.281686Z",
     "iopub.status.idle": "2023-05-29T11:07:16.294548Z",
     "shell.execute_reply": "2023-05-29T11:07:16.293679Z"
    },
    "papermill": {
     "duration": 0.035853,
     "end_time": "2023-05-29T11:07:16.296759",
     "exception": false,
     "start_time": "2023-05-29T11:07:16.260906",
     "status": "completed"
    },
    "tags": []
   },
   "outputs": [
    {
     "data": {
      "text/html": [
       "<div>\n",
       "<style scoped>\n",
       "    .dataframe tbody tr th:only-of-type {\n",
       "        vertical-align: middle;\n",
       "    }\n",
       "\n",
       "    .dataframe tbody tr th {\n",
       "        vertical-align: top;\n",
       "    }\n",
       "\n",
       "    .dataframe thead th {\n",
       "        text-align: right;\n",
       "    }\n",
       "</style>\n",
       "<table border=\"1\" class=\"dataframe\">\n",
       "  <thead>\n",
       "    <tr style=\"text-align: right;\">\n",
       "      <th></th>\n",
       "      <th>Sex</th>\n",
       "      <th>Embarked</th>\n",
       "    </tr>\n",
       "  </thead>\n",
       "  <tbody>\n",
       "    <tr>\n",
       "      <th>0</th>\n",
       "      <td>male</td>\n",
       "      <td>S</td>\n",
       "    </tr>\n",
       "    <tr>\n",
       "      <th>1</th>\n",
       "      <td>female</td>\n",
       "      <td>C</td>\n",
       "    </tr>\n",
       "    <tr>\n",
       "      <th>2</th>\n",
       "      <td>female</td>\n",
       "      <td>S</td>\n",
       "    </tr>\n",
       "    <tr>\n",
       "      <th>5</th>\n",
       "      <td>male</td>\n",
       "      <td>Q</td>\n",
       "    </tr>\n",
       "    <tr>\n",
       "      <th>22</th>\n",
       "      <td>female</td>\n",
       "      <td>Q</td>\n",
       "    </tr>\n",
       "    <tr>\n",
       "      <th>26</th>\n",
       "      <td>male</td>\n",
       "      <td>C</td>\n",
       "    </tr>\n",
       "    <tr>\n",
       "      <th>61</th>\n",
       "      <td>female</td>\n",
       "      <td>NaN</td>\n",
       "    </tr>\n",
       "  </tbody>\n",
       "</table>\n",
       "</div>"
      ],
      "text/plain": [
       "       Sex Embarked\n",
       "0     male        S\n",
       "1   female        C\n",
       "2   female        S\n",
       "5     male        Q\n",
       "22  female        Q\n",
       "26    male        C\n",
       "61  female      NaN"
      ]
     },
     "execution_count": 19,
     "metadata": {},
     "output_type": "execute_result"
    }
   ],
   "source": [
    "df.loc[:,['Sex', 'Embarked']].drop_duplicates()\n",
    "# this helps in getting unique combination of multiple columns"
   ]
  },
  {
   "cell_type": "markdown",
   "id": "07bf3e64",
   "metadata": {
    "papermill": {
     "duration": 0.01907,
     "end_time": "2023-05-29T11:07:16.335315",
     "exception": false,
     "start_time": "2023-05-29T11:07:16.316245",
     "status": "completed"
    },
    "tags": []
   },
   "source": [
    "## 2.Grouping data\n",
    "\n"
   ]
  },
  {
   "cell_type": "markdown",
   "id": "e85c91ec",
   "metadata": {
    "papermill": {
     "duration": 0.018894,
     "end_time": "2023-05-29T11:07:16.373508",
     "exception": false,
     "start_time": "2023-05-29T11:07:16.354614",
     "status": "completed"
    },
    "tags": []
   },
   "source": [
    "use `groupby()`\n",
    "\n",
    "**Group by some column/columns, then we can aggregate to get mean, count, sum or custom function based on the group.**"
   ]
  },
  {
   "cell_type": "code",
   "execution_count": 20,
   "id": "3c1e9280",
   "metadata": {
    "execution": {
     "iopub.execute_input": "2023-05-29T11:07:16.414892Z",
     "iopub.status.busy": "2023-05-29T11:07:16.413808Z",
     "iopub.status.idle": "2023-05-29T11:07:16.434816Z",
     "shell.execute_reply": "2023-05-29T11:07:16.433806Z"
    },
    "papermill": {
     "duration": 0.044073,
     "end_time": "2023-05-29T11:07:16.437186",
     "exception": false,
     "start_time": "2023-05-29T11:07:16.393113",
     "status": "completed"
    },
    "tags": []
   },
   "outputs": [
    {
     "data": {
      "text/html": [
       "<div>\n",
       "<style scoped>\n",
       "    .dataframe tbody tr th:only-of-type {\n",
       "        vertical-align: middle;\n",
       "    }\n",
       "\n",
       "    .dataframe tbody tr th {\n",
       "        vertical-align: top;\n",
       "    }\n",
       "\n",
       "    .dataframe thead th {\n",
       "        text-align: right;\n",
       "    }\n",
       "</style>\n",
       "<table border=\"1\" class=\"dataframe\">\n",
       "  <thead>\n",
       "    <tr style=\"text-align: right;\">\n",
       "      <th></th>\n",
       "      <th></th>\n",
       "      <th>PassengerId</th>\n",
       "      <th>Name</th>\n",
       "      <th>Sex</th>\n",
       "      <th>Age</th>\n",
       "      <th>SibSp</th>\n",
       "      <th>Parch</th>\n",
       "      <th>Ticket</th>\n",
       "      <th>Fare</th>\n",
       "      <th>Cabin</th>\n",
       "      <th>Embarked</th>\n",
       "    </tr>\n",
       "    <tr>\n",
       "      <th>Pclass</th>\n",
       "      <th>Survived</th>\n",
       "      <th></th>\n",
       "      <th></th>\n",
       "      <th></th>\n",
       "      <th></th>\n",
       "      <th></th>\n",
       "      <th></th>\n",
       "      <th></th>\n",
       "      <th></th>\n",
       "      <th></th>\n",
       "      <th></th>\n",
       "    </tr>\n",
       "  </thead>\n",
       "  <tbody>\n",
       "    <tr>\n",
       "      <th rowspan=\"2\" valign=\"top\">1</th>\n",
       "      <th>0</th>\n",
       "      <td>80</td>\n",
       "      <td>80</td>\n",
       "      <td>80</td>\n",
       "      <td>64</td>\n",
       "      <td>80</td>\n",
       "      <td>80</td>\n",
       "      <td>80</td>\n",
       "      <td>80</td>\n",
       "      <td>59</td>\n",
       "      <td>80</td>\n",
       "    </tr>\n",
       "    <tr>\n",
       "      <th>1</th>\n",
       "      <td>136</td>\n",
       "      <td>136</td>\n",
       "      <td>136</td>\n",
       "      <td>122</td>\n",
       "      <td>136</td>\n",
       "      <td>136</td>\n",
       "      <td>136</td>\n",
       "      <td>136</td>\n",
       "      <td>117</td>\n",
       "      <td>134</td>\n",
       "    </tr>\n",
       "    <tr>\n",
       "      <th rowspan=\"2\" valign=\"top\">2</th>\n",
       "      <th>0</th>\n",
       "      <td>97</td>\n",
       "      <td>97</td>\n",
       "      <td>97</td>\n",
       "      <td>90</td>\n",
       "      <td>97</td>\n",
       "      <td>97</td>\n",
       "      <td>97</td>\n",
       "      <td>97</td>\n",
       "      <td>3</td>\n",
       "      <td>97</td>\n",
       "    </tr>\n",
       "    <tr>\n",
       "      <th>1</th>\n",
       "      <td>87</td>\n",
       "      <td>87</td>\n",
       "      <td>87</td>\n",
       "      <td>83</td>\n",
       "      <td>87</td>\n",
       "      <td>87</td>\n",
       "      <td>87</td>\n",
       "      <td>87</td>\n",
       "      <td>13</td>\n",
       "      <td>87</td>\n",
       "    </tr>\n",
       "    <tr>\n",
       "      <th rowspan=\"2\" valign=\"top\">3</th>\n",
       "      <th>0</th>\n",
       "      <td>372</td>\n",
       "      <td>372</td>\n",
       "      <td>372</td>\n",
       "      <td>270</td>\n",
       "      <td>372</td>\n",
       "      <td>372</td>\n",
       "      <td>372</td>\n",
       "      <td>372</td>\n",
       "      <td>6</td>\n",
       "      <td>372</td>\n",
       "    </tr>\n",
       "    <tr>\n",
       "      <th>1</th>\n",
       "      <td>119</td>\n",
       "      <td>119</td>\n",
       "      <td>119</td>\n",
       "      <td>85</td>\n",
       "      <td>119</td>\n",
       "      <td>119</td>\n",
       "      <td>119</td>\n",
       "      <td>119</td>\n",
       "      <td>6</td>\n",
       "      <td>119</td>\n",
       "    </tr>\n",
       "  </tbody>\n",
       "</table>\n",
       "</div>"
      ],
      "text/plain": [
       "                 PassengerId  Name  Sex  Age  SibSp  Parch  Ticket  Fare  \\\n",
       "Pclass Survived                                                            \n",
       "1      0                  80    80   80   64     80     80      80    80   \n",
       "       1                 136   136  136  122    136    136     136   136   \n",
       "2      0                  97    97   97   90     97     97      97    97   \n",
       "       1                  87    87   87   83     87     87      87    87   \n",
       "3      0                 372   372  372  270    372    372     372   372   \n",
       "       1                 119   119  119   85    119    119     119   119   \n",
       "\n",
       "                 Cabin  Embarked  \n",
       "Pclass Survived                   \n",
       "1      0            59        80  \n",
       "       1           117       134  \n",
       "2      0             3        97  \n",
       "       1            13        87  \n",
       "3      0             6       372  \n",
       "       1             6       119  "
      ]
     },
     "execution_count": 20,
     "metadata": {},
     "output_type": "execute_result"
    }
   ],
   "source": [
    "df.groupby(by = ['Pclass' ,'Survived']).count()"
   ]
  },
  {
   "cell_type": "code",
   "execution_count": 21,
   "id": "d4324a8d",
   "metadata": {
    "execution": {
     "iopub.execute_input": "2023-05-29T11:07:16.481240Z",
     "iopub.status.busy": "2023-05-29T11:07:16.480841Z",
     "iopub.status.idle": "2023-05-29T11:07:16.496051Z",
     "shell.execute_reply": "2023-05-29T11:07:16.494701Z"
    },
    "papermill": {
     "duration": 0.041615,
     "end_time": "2023-05-29T11:07:16.498676",
     "exception": false,
     "start_time": "2023-05-29T11:07:16.457061",
     "status": "completed"
    },
    "tags": []
   },
   "outputs": [
    {
     "name": "stderr",
     "output_type": "stream",
     "text": [
      "/tmp/ipykernel_20/1940742703.py:3: FutureWarning: The default value of numeric_only in DataFrameGroupBy.mean is deprecated. In a future version, numeric_only will default to False. Either specify numeric_only or select only columns which should be valid for the function.\n",
      "  df.groupby(by = ['Pclass' ,'Sex']).mean().loc[:,'Fare']\n"
     ]
    },
    {
     "data": {
      "text/plain": [
       "Pclass  Sex   \n",
       "1       female    106.125798\n",
       "        male       67.226127\n",
       "2       female     21.970121\n",
       "        male       19.741782\n",
       "3       female     16.118810\n",
       "        male       12.661633\n",
       "Name: Fare, dtype: float64"
      ]
     },
     "execution_count": 21,
     "metadata": {},
     "output_type": "execute_result"
    }
   ],
   "source": [
    "\n",
    "# we can use multiple conditions\n",
    "# group by sex and class -> mean of fare\n",
    "df.groupby(by = ['Pclass' ,'Sex']).mean().loc[:,'Fare']"
   ]
  },
  {
   "cell_type": "markdown",
   "id": "8c7e0e83",
   "metadata": {
    "papermill": {
     "duration": 0.020216,
     "end_time": "2023-05-29T11:07:16.538958",
     "exception": false,
     "start_time": "2023-05-29T11:07:16.518742",
     "status": "completed"
    },
    "tags": []
   },
   "source": [
    "## 3.handling missing data"
   ]
  },
  {
   "cell_type": "markdown",
   "id": "5a536e12",
   "metadata": {
    "papermill": {
     "duration": 0.019728,
     "end_time": "2023-05-29T11:07:16.580045",
     "exception": false,
     "start_time": "2023-05-29T11:07:16.560317",
     "status": "completed"
    },
    "tags": []
   },
   "source": [
    "### method 1: dropping missing values\n",
    "\n",
    "`dropna`\n",
    "\n"
   ]
  },
  {
   "cell_type": "code",
   "execution_count": 22,
   "id": "63fcad80",
   "metadata": {
    "execution": {
     "iopub.execute_input": "2023-05-29T11:07:16.623593Z",
     "iopub.status.busy": "2023-05-29T11:07:16.623212Z",
     "iopub.status.idle": "2023-05-29T11:07:16.633849Z",
     "shell.execute_reply": "2023-05-29T11:07:16.632844Z"
    },
    "papermill": {
     "duration": 0.034988,
     "end_time": "2023-05-29T11:07:16.636205",
     "exception": false,
     "start_time": "2023-05-29T11:07:16.601217",
     "status": "completed"
    },
    "tags": []
   },
   "outputs": [
    {
     "data": {
      "text/plain": [
       "(183, 12)"
      ]
     },
     "execution_count": 22,
     "metadata": {},
     "output_type": "execute_result"
    }
   ],
   "source": [
    "# how=any -> row with any column = NA\n",
    "\n",
    "df.dropna(axis=0,  how='any').shape"
   ]
  },
  {
   "cell_type": "code",
   "execution_count": 23,
   "id": "8063944c",
   "metadata": {
    "execution": {
     "iopub.execute_input": "2023-05-29T11:07:16.679592Z",
     "iopub.status.busy": "2023-05-29T11:07:16.678910Z",
     "iopub.status.idle": "2023-05-29T11:07:16.687316Z",
     "shell.execute_reply": "2023-05-29T11:07:16.686474Z"
    },
    "papermill": {
     "duration": 0.032786,
     "end_time": "2023-05-29T11:07:16.689642",
     "exception": false,
     "start_time": "2023-05-29T11:07:16.656856",
     "status": "completed"
    },
    "tags": []
   },
   "outputs": [
    {
     "data": {
      "text/plain": [
       "(891, 12)"
      ]
     },
     "execution_count": 23,
     "metadata": {},
     "output_type": "execute_result"
    }
   ],
   "source": [
    "# how=any -> row with all columns = NA\n",
    "\n",
    "df.dropna(axis=0, how='all').shape"
   ]
  },
  {
   "cell_type": "code",
   "execution_count": 24,
   "id": "e22ee7ca",
   "metadata": {
    "execution": {
     "iopub.execute_input": "2023-05-29T11:07:16.732608Z",
     "iopub.status.busy": "2023-05-29T11:07:16.731510Z",
     "iopub.status.idle": "2023-05-29T11:07:16.743198Z",
     "shell.execute_reply": "2023-05-29T11:07:16.741761Z"
    },
    "papermill": {
     "duration": 0.036334,
     "end_time": "2023-05-29T11:07:16.746168",
     "exception": false,
     "start_time": "2023-05-29T11:07:16.709834",
     "status": "completed"
    },
    "tags": []
   },
   "outputs": [
    {
     "data": {
      "text/plain": [
       "[{'Age', 'Cabin', 'Embarked'}]"
      ]
     },
     "execution_count": 24,
     "metadata": {},
     "output_type": "execute_result"
    }
   ],
   "source": [
    "# drops column which have any row of NA\n",
    "\n",
    "[set(df.columns) - set(df.dropna(axis=1, how='any').columns)]\n",
    "\n",
    "# three columns have been removed"
   ]
  },
  {
   "cell_type": "markdown",
   "id": "a878ab88",
   "metadata": {
    "papermill": {
     "duration": 0.0207,
     "end_time": "2023-05-29T11:07:16.787930",
     "exception": false,
     "start_time": "2023-05-29T11:07:16.767230",
     "status": "completed"
    },
    "tags": []
   },
   "source": [
    "### method 2:- filling in missing values\n",
    "\n",
    "`fillna`"
   ]
  },
  {
   "cell_type": "code",
   "execution_count": 25,
   "id": "18338675",
   "metadata": {
    "execution": {
     "iopub.execute_input": "2023-05-29T11:07:16.831661Z",
     "iopub.status.busy": "2023-05-29T11:07:16.831262Z",
     "iopub.status.idle": "2023-05-29T11:07:16.873464Z",
     "shell.execute_reply": "2023-05-29T11:07:16.872222Z"
    },
    "papermill": {
     "duration": 0.067337,
     "end_time": "2023-05-29T11:07:16.876416",
     "exception": false,
     "start_time": "2023-05-29T11:07:16.809079",
     "status": "completed"
    },
    "tags": []
   },
   "outputs": [
    {
     "data": {
      "text/html": [
       "<div>\n",
       "<style scoped>\n",
       "    .dataframe tbody tr th:only-of-type {\n",
       "        vertical-align: middle;\n",
       "    }\n",
       "\n",
       "    .dataframe tbody tr th {\n",
       "        vertical-align: top;\n",
       "    }\n",
       "\n",
       "    .dataframe thead th {\n",
       "        text-align: right;\n",
       "    }\n",
       "</style>\n",
       "<table border=\"1\" class=\"dataframe\">\n",
       "  <thead>\n",
       "    <tr style=\"text-align: right;\">\n",
       "      <th></th>\n",
       "      <th>PassengerId</th>\n",
       "      <th>Survived</th>\n",
       "      <th>Pclass</th>\n",
       "      <th>Name</th>\n",
       "      <th>Sex</th>\n",
       "      <th>Age</th>\n",
       "      <th>SibSp</th>\n",
       "      <th>Parch</th>\n",
       "      <th>Ticket</th>\n",
       "      <th>Fare</th>\n",
       "      <th>Cabin</th>\n",
       "      <th>Embarked</th>\n",
       "    </tr>\n",
       "  </thead>\n",
       "  <tbody>\n",
       "    <tr>\n",
       "      <th>0</th>\n",
       "      <td>1</td>\n",
       "      <td>0</td>\n",
       "      <td>3</td>\n",
       "      <td>Braund, Mr. Owen Harris</td>\n",
       "      <td>male</td>\n",
       "      <td>22.0</td>\n",
       "      <td>1</td>\n",
       "      <td>0</td>\n",
       "      <td>A/5 21171</td>\n",
       "      <td>7.25</td>\n",
       "      <td>&lt;bound method NDFrame._add_numeric_operations....</td>\n",
       "      <td>S</td>\n",
       "    </tr>\n",
       "  </tbody>\n",
       "</table>\n",
       "</div>"
      ],
      "text/plain": [
       "   PassengerId  Survived  Pclass                     Name   Sex   Age  SibSp  \\\n",
       "0            1         0       3  Braund, Mr. Owen Harris  male  22.0      1   \n",
       "\n",
       "   Parch     Ticket  Fare                                              Cabin  \\\n",
       "0      0  A/5 21171  7.25  <bound method NDFrame._add_numeric_operations....   \n",
       "\n",
       "  Embarked  \n",
       "0        S  "
      ]
     },
     "execution_count": 25,
     "metadata": {},
     "output_type": "execute_result"
    }
   ],
   "source": [
    "# replace with mean of that column\n",
    "# can put any specific value also\n",
    "# would not work for columns with string type like Cabin\n",
    "\n",
    "df.fillna(df.mean)[:1]"
   ]
  },
  {
   "cell_type": "markdown",
   "id": "4629763b",
   "metadata": {
    "papermill": {
     "duration": 0.021834,
     "end_time": "2023-05-29T11:07:16.920362",
     "exception": false,
     "start_time": "2023-05-29T11:07:16.898528",
     "status": "completed"
    },
    "tags": []
   },
   "source": [
    "<a id=\"textdata\"></a>\n",
    "<h1 style='background:black; border:0; color:cyan'><center>Working with Text Data</center><h1>"
   ]
  },
  {
   "cell_type": "markdown",
   "id": "744503ea",
   "metadata": {
    "papermill": {
     "duration": 0.020823,
     "end_time": "2023-05-29T11:07:16.961920",
     "exception": false,
     "start_time": "2023-05-29T11:07:16.941097",
     "status": "completed"
    },
    "tags": []
   },
   "source": [
    "## Working with text data\n",
    "\n",
    "### What all can we do when we have string datatype in pandas dataframe/series ?\n",
    "\n",
    "`str`\n",
    "Working with string format in pandas series/df\n",
    "\n",
    "We can do:\n",
    "\n",
    "`str.upper()/lower()` to convert string into upper or lower case\n",
    "\n",
    "`str.len()` to find the length of sting\n",
    "\n",
    "`str.strip()/lstrip()/rstrip()` to strip spaces\n",
    "\n",
    "`str.replace()` to replace anything from string\n",
    "\n",
    "`str.split()` to split words of string or using some other delimiter\n",
    "\n",
    "`str.get()` to access elements in slit list\n",
    "\n",
    "`str.resplit()` spit in reverse order of string based on some delimiter\n",
    "\n",
    "`str.extract()` extract specific thing from string. alphabet or number\n",
    "\n",
    "Let's see how to use all that in pandas series. Keep in mind pandas DataFrame has no attribute called str and works on Series object only. So, grab column of df, then apply str"
   ]
  },
  {
   "cell_type": "code",
   "execution_count": 26,
   "id": "968502b4",
   "metadata": {
    "execution": {
     "iopub.execute_input": "2023-05-29T11:07:17.007442Z",
     "iopub.status.busy": "2023-05-29T11:07:17.006583Z",
     "iopub.status.idle": "2023-05-29T11:07:17.017832Z",
     "shell.execute_reply": "2023-05-29T11:07:17.016478Z"
    },
    "papermill": {
     "duration": 0.037689,
     "end_time": "2023-05-29T11:07:17.020312",
     "exception": false,
     "start_time": "2023-05-29T11:07:16.982623",
     "status": "completed"
    },
    "tags": []
   },
   "outputs": [
    {
     "data": {
      "text/plain": [
       "0                              braund, mr. owen harris\n",
       "1    cumings, mrs. john bradley (florence briggs th...\n",
       "2                               heikkinen, miss. laina\n",
       "3         futrelle, mrs. jacques heath (lily may peel)\n",
       "4                             allen, mr. william henry\n",
       "Name: Name, dtype: object"
      ]
     },
     "execution_count": 26,
     "metadata": {},
     "output_type": "execute_result"
    }
   ],
   "source": [
    "# converts all rows into lower\n",
    "\n",
    "df.Name.str.lower().head()"
   ]
  },
  {
   "cell_type": "code",
   "execution_count": 27,
   "id": "fad0a078",
   "metadata": {
    "execution": {
     "iopub.execute_input": "2023-05-29T11:07:17.067613Z",
     "iopub.status.busy": "2023-05-29T11:07:17.066333Z",
     "iopub.status.idle": "2023-05-29T11:07:17.075486Z",
     "shell.execute_reply": "2023-05-29T11:07:17.074575Z"
    },
    "papermill": {
     "duration": 0.035202,
     "end_time": "2023-05-29T11:07:17.077751",
     "exception": false,
     "start_time": "2023-05-29T11:07:17.042549",
     "status": "completed"
    },
    "tags": []
   },
   "outputs": [
    {
     "data": {
      "text/plain": [
       "0      MALE\n",
       "1    FEMALE\n",
       "2    FEMALE\n",
       "3    FEMALE\n",
       "4      MALE\n",
       "Name: Sex, dtype: object"
      ]
     },
     "execution_count": 27,
     "metadata": {},
     "output_type": "execute_result"
    }
   ],
   "source": [
    "# converts all rows into upper \n",
    "\n",
    "df.Sex.str.upper().head()"
   ]
  },
  {
   "cell_type": "code",
   "execution_count": 28,
   "id": "c549ea3b",
   "metadata": {
    "execution": {
     "iopub.execute_input": "2023-05-29T11:07:17.123930Z",
     "iopub.status.busy": "2023-05-29T11:07:17.123291Z",
     "iopub.status.idle": "2023-05-29T11:07:17.131257Z",
     "shell.execute_reply": "2023-05-29T11:07:17.130348Z"
    },
    "papermill": {
     "duration": 0.033006,
     "end_time": "2023-05-29T11:07:17.133404",
     "exception": false,
     "start_time": "2023-05-29T11:07:17.100398",
     "status": "completed"
    },
    "tags": []
   },
   "outputs": [
    {
     "data": {
      "text/plain": [
       "0    23\n",
       "1    51\n",
       "2    22\n",
       "3    44\n",
       "4    24\n",
       "Name: Name, dtype: int64"
      ]
     },
     "execution_count": 28,
     "metadata": {},
     "output_type": "execute_result"
    }
   ],
   "source": [
    "# counts all the characters including spaces\n",
    "\n",
    "df.Name.str.len().head()"
   ]
  },
  {
   "cell_type": "code",
   "execution_count": 29,
   "id": "ce8b3061",
   "metadata": {
    "execution": {
     "iopub.execute_input": "2023-05-29T11:07:17.178008Z",
     "iopub.status.busy": "2023-05-29T11:07:17.177411Z",
     "iopub.status.idle": "2023-05-29T11:07:17.190432Z",
     "shell.execute_reply": "2023-05-29T11:07:17.189627Z"
    },
    "papermill": {
     "duration": 0.038082,
     "end_time": "2023-05-29T11:07:17.192642",
     "exception": false,
     "start_time": "2023-05-29T11:07:17.154560",
     "status": "completed"
    },
    "tags": []
   },
   "outputs": [
    {
     "data": {
      "text/html": [
       "<div>\n",
       "<style scoped>\n",
       "    .dataframe tbody tr th:only-of-type {\n",
       "        vertical-align: middle;\n",
       "    }\n",
       "\n",
       "    .dataframe tbody tr th {\n",
       "        vertical-align: top;\n",
       "    }\n",
       "\n",
       "    .dataframe thead th {\n",
       "        text-align: right;\n",
       "    }\n",
       "</style>\n",
       "<table border=\"1\" class=\"dataframe\">\n",
       "  <thead>\n",
       "    <tr style=\"text-align: right;\">\n",
       "      <th></th>\n",
       "      <th>First_Name</th>\n",
       "      <th>Last_Name</th>\n",
       "    </tr>\n",
       "  </thead>\n",
       "  <tbody>\n",
       "    <tr>\n",
       "      <th>0</th>\n",
       "      <td>Braund</td>\n",
       "      <td>Mr. Owen Harris</td>\n",
       "    </tr>\n",
       "    <tr>\n",
       "      <th>1</th>\n",
       "      <td>Cumings</td>\n",
       "      <td>Mrs. John Bradley (Florence Briggs Thayer)</td>\n",
       "    </tr>\n",
       "    <tr>\n",
       "      <th>2</th>\n",
       "      <td>Heikkinen</td>\n",
       "      <td>Miss. Laina</td>\n",
       "    </tr>\n",
       "    <tr>\n",
       "      <th>3</th>\n",
       "      <td>Futrelle</td>\n",
       "      <td>Mrs. Jacques Heath (Lily May Peel)</td>\n",
       "    </tr>\n",
       "    <tr>\n",
       "      <th>4</th>\n",
       "      <td>Allen</td>\n",
       "      <td>Mr. William Henry</td>\n",
       "    </tr>\n",
       "  </tbody>\n",
       "</table>\n",
       "</div>"
      ],
      "text/plain": [
       "  First_Name                                    Last_Name\n",
       "0     Braund                              Mr. Owen Harris\n",
       "1    Cumings   Mrs. John Bradley (Florence Briggs Thayer)\n",
       "2  Heikkinen                                  Miss. Laina\n",
       "3   Futrelle           Mrs. Jacques Heath (Lily May Peel)\n",
       "4      Allen                            Mr. William Henry"
      ]
     },
     "execution_count": 29,
     "metadata": {},
     "output_type": "execute_result"
    }
   ],
   "source": [
    "# splits strings in each row over whitespaces ()\n",
    "# expand=True : expand columns\n",
    "# pat = regex to split on\n",
    "\n",
    "df.Name.str.split(pat=',',expand=True).head().rename(columns={0:'First_Name', 1: 'Last_Name'})"
   ]
  },
  {
   "cell_type": "code",
   "execution_count": 30,
   "id": "eaed802b",
   "metadata": {
    "execution": {
     "iopub.execute_input": "2023-05-29T11:07:17.238110Z",
     "iopub.status.busy": "2023-05-29T11:07:17.237706Z",
     "iopub.status.idle": "2023-05-29T11:07:17.246287Z",
     "shell.execute_reply": "2023-05-29T11:07:17.245228Z"
    },
    "papermill": {
     "duration": 0.034575,
     "end_time": "2023-05-29T11:07:17.248617",
     "exception": false,
     "start_time": "2023-05-29T11:07:17.214042",
     "status": "completed"
    },
    "tags": []
   },
   "outputs": [
    {
     "data": {
      "text/plain": [
       "['Cumings,', 'Mrs.', 'John', 'Bradley', '(Florence', 'Briggs', 'Thayer)']"
      ]
     },
     "execution_count": 30,
     "metadata": {},
     "output_type": "execute_result"
    }
   ],
   "source": [
    "# get() is used to get particular row of split\n",
    "\n",
    "df.Name.str.split().get(1)"
   ]
  },
  {
   "cell_type": "markdown",
   "id": "eb0c745d",
   "metadata": {
    "papermill": {
     "duration": 0.02107,
     "end_time": "2023-05-29T11:07:17.291239",
     "exception": false,
     "start_time": "2023-05-29T11:07:17.270169",
     "status": "completed"
    },
    "tags": []
   },
   "source": [
    "<a id=\"plot\"></a>\n",
    "<h1 style='background:black; border:0; color:cyan'><center>Plotting</center><h1>"
   ]
  },
  {
   "cell_type": "code",
   "execution_count": 31,
   "id": "37277562",
   "metadata": {
    "execution": {
     "iopub.execute_input": "2023-05-29T11:07:17.337061Z",
     "iopub.status.busy": "2023-05-29T11:07:17.336196Z",
     "iopub.status.idle": "2023-05-29T11:07:17.340891Z",
     "shell.execute_reply": "2023-05-29T11:07:17.340043Z"
    },
    "papermill": {
     "duration": 0.030705,
     "end_time": "2023-05-29T11:07:17.343370",
     "exception": false,
     "start_time": "2023-05-29T11:07:17.312665",
     "status": "completed"
    },
    "tags": []
   },
   "outputs": [],
   "source": [
    "import matplotlib.pyplot as plt"
   ]
  },
  {
   "cell_type": "markdown",
   "id": "a79d4608",
   "metadata": {
    "papermill": {
     "duration": 0.021499,
     "end_time": "2023-05-29T11:07:17.387855",
     "exception": false,
     "start_time": "2023-05-29T11:07:17.366356",
     "status": "completed"
    },
    "tags": []
   },
   "source": [
    "# Scatter Plot\n",
    "\n",
    "**Specify that you want a scatter plot with the kind argument:**\n",
    "\n",
    "**kind = 'scatter'**\n",
    "\n",
    "**A scatter plot needs an x- and a y-axis.**"
   ]
  },
  {
   "cell_type": "code",
   "execution_count": 32,
   "id": "af4b9cc7",
   "metadata": {
    "execution": {
     "iopub.execute_input": "2023-05-29T11:07:17.432542Z",
     "iopub.status.busy": "2023-05-29T11:07:17.432169Z",
     "iopub.status.idle": "2023-05-29T11:07:17.758699Z",
     "shell.execute_reply": "2023-05-29T11:07:17.757567Z"
    },
    "papermill": {
     "duration": 0.351912,
     "end_time": "2023-05-29T11:07:17.761265",
     "exception": false,
     "start_time": "2023-05-29T11:07:17.409353",
     "status": "completed"
    },
    "tags": []
   },
   "outputs": [
    {
     "data": {
      "image/png": "[encoded data removed]",
      "text/plain": [
       "<Figure size 640x480 with 1 Axes>"
      ]
     },
     "metadata": {},
     "output_type": "display_data"
    }
   ],
   "source": [
    "df.plot(kind = 'scatter', x = 'Pclass', y = 'Fare')\n",
    "\n",
    "plt.show()"
   ]
  },
  {
   "cell_type": "markdown",
   "id": "6c9d2b1c",
   "metadata": {
    "papermill": {
     "duration": 0.022211,
     "end_time": "2023-05-29T11:07:17.805332",
     "exception": false,
     "start_time": "2023-05-29T11:07:17.783121",
     "status": "completed"
    },
    "tags": []
   },
   "source": [
    "# Histogram\n",
    "**Use the kind argument to specify that you want a histogram:**\n",
    "\n",
    "**kind = 'hist'**\n",
    "\n",
    "**A histogram needs only one column.**"
   ]
  },
  {
   "cell_type": "code",
   "execution_count": 33,
   "id": "fd6a293d",
   "metadata": {
    "execution": {
     "iopub.execute_input": "2023-05-29T11:07:17.852676Z",
     "iopub.status.busy": "2023-05-29T11:07:17.851607Z",
     "iopub.status.idle": "2023-05-29T11:07:18.135862Z",
     "shell.execute_reply": "2023-05-29T11:07:18.134478Z"
    },
    "papermill": {
     "duration": 0.310874,
     "end_time": "2023-05-29T11:07:18.138715",
     "exception": false,
     "start_time": "2023-05-29T11:07:17.827841",
     "status": "completed"
    },
    "tags": []
   },
   "outputs": [
    {
     "data": {
      "text/plain": [
       "<Axes: ylabel='Frequency'>"
      ]
     },
     "execution_count": 33,
     "metadata": {},
     "output_type": "execute_result"
    },
    {
     "data": {
      "image/png": "[encoded data removed]",
      "text/plain": [
       "<Figure size 640x480 with 1 Axes>"
      ]
     },
     "metadata": {},
     "output_type": "display_data"
    }
   ],
   "source": [
    "df[\"Age\"].plot(kind = 'hist')"
   ]
  },
  {
   "cell_type": "markdown",
   "id": "7f5061fd",
   "metadata": {
    "papermill": {
     "duration": 0.022895,
     "end_time": "2023-05-29T11:07:18.184487",
     "exception": false,
     "start_time": "2023-05-29T11:07:18.161592",
     "status": "completed"
    },
    "tags": []
   },
   "source": [
    "# Please give an upvote if you found my kernel helpful.\n",
    "\n",
    "## Happy Learnings!"
   ]
  },
  {
   "cell_type": "code",
   "execution_count": null,
   "id": "7c13c33f",
   "metadata": {
    "papermill": {
     "duration": 0.023567,
     "end_time": "2023-05-29T11:07:18.230946",
     "exception": false,
     "start_time": "2023-05-29T11:07:18.207379",
     "status": "completed"
    },
    "tags": []
   },
   "outputs": [],
   "source": []
  }
 ],
 "metadata": {
  "kernelspec": {
   "display_name": "Python 3",
   "language": "python",
   "name": "python3"
  },
  "language_info": {
   "codemirror_mode": {
    "name": "ipython",
    "version": 3
   },
   "file_extension": ".py",
   "mimetype": "text/x-python",
   "name": "python",
   "nbconvert_exporter": "python",
   "pygments_lexer": "ipython3",
   "version": "3.10.10"
  },
  "papermill": {
   "default_parameters": {},
   "duration": 17.749765,
   "end_time": "2023-05-29T11:07:19.182247",
   "environment_variables": {},
   "exception": null,
   "input_path": "__notebook__.ipynb",
   "output_path": "__notebook__.ipynb",
   "parameters": {},
   "start_time": "2023-05-29T11:07:01.432482",
   "version": "2.4.0"
  }
 },
 "nbformat": 4,
 "nbformat_minor": 5
}
